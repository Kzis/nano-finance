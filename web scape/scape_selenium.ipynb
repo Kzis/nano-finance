{
 "cells": [
  {
   "cell_type": "code",
   "execution_count": 1,
   "metadata": {},
   "outputs": [
    {
     "name": "stdout",
     "output_type": "stream",
     "text": [
      "Requirement already satisfied: selenium in c:\\users\\acer\\anaconda3\\lib\\site-packages (3.141.0)\n",
      "Requirement already satisfied: urllib3 in c:\\users\\acer\\anaconda3\\lib\\site-packages (from selenium) (1.24.2)\n"
     ]
    }
   ],
   "source": [
    "!pip install selenium"
   ]
  },
  {
   "cell_type": "code",
   "execution_count": 2,
   "metadata": {},
   "outputs": [],
   "source": [
    "#Importing packages\n",
    "from selenium import webdriver\n",
    "import pandas as pd"
   ]
  },
  {
   "cell_type": "code",
   "execution_count": 4,
   "metadata": {},
   "outputs": [],
   "source": [
    "driver = webdriver.Chrome('C:\\\\Users\\\\Acer\\\\Desktop\\\\New folder\\\\chromedriver')"
   ]
  },
  {
   "cell_type": "code",
   "execution_count": 5,
   "metadata": {},
   "outputs": [],
   "source": [
    "driver.get('https://forums.edmunds.com/discussion/2864/general/x/entry-level-luxury-performance-sedans/p702')"
   ]
  },
  {
   "cell_type": "code",
   "execution_count": 7,
   "metadata": {},
   "outputs": [
    {
     "data": {
      "text/plain": [
       "'dino001'"
      ]
     },
     "execution_count": 7,
     "metadata": {},
     "output_type": "execute_result"
    }
   ],
   "source": [
    "userid_element = driver.find_elements_by_xpath('//*[@id=\"Comment_5561090\"]/div/div[2]/div[1]/span[1]/a[2]')[0]\n",
    "userid = userid_element.text\n",
    "userid"
   ]
  },
  {
   "cell_type": "code",
   "execution_count": 10,
   "metadata": {},
   "outputs": [
    {
     "data": {
      "text/plain": [
       "'September  7, 2018  4:01PM'"
      ]
     },
     "execution_count": 10,
     "metadata": {},
     "output_type": "execute_result"
    }
   ],
   "source": [
    "user_date = driver.find_elements_by_xpath('//*[@id=\"Comment_5561090\"]/div/div[2]/div[2]/span[1]/a/time')[0]\n",
    "date = user_date.get_attribute('title')\n",
    "date"
   ]
  },
  {
   "cell_type": "code",
   "execution_count": 11,
   "metadata": {},
   "outputs": [
    {
     "data": {
      "text/plain": [
       "'If they keep it around in next four-five years, I think I will make myself to put on a hazmat suit and visit our friendly Kia dealer (oh, boy are they horrible here, or what) to check it out. It\\'s got a lot of good stuff, but seems like they are still behind on a few things, such as relationship between power and gas mileage (e.g. BMW 340/440 has similar performance, but much better gas mileage as a daily driver), but with appropriate price difference, those objections and shortcomings are not insurmountable. Biggest thing will be the \"first contact\" with a sales person. Hope it won\\'t start from \"are you buying it today?\", \"what can I do to make you take it home?\", or \"let me wash your BMW - oh, I can\\'t find the keys\", \"How about I show you the deal - square one, two, three, four\".'"
      ]
     },
     "execution_count": 11,
     "metadata": {},
     "output_type": "execute_result"
    }
   ],
   "source": [
    "user_message = driver.find_elements_by_xpath('//*[@id=\"Comment_5561090\"]/div/div[3]/div/div[1]')[0]\n",
    "comment = user_message.text\n",
    "comment"
   ]
  },
  {
   "cell_type": "code",
   "execution_count": 13,
   "metadata": {},
   "outputs": [
    {
     "data": {
      "text/plain": [
       "['Comment_5561090',\n",
       " 'Comment_5561191',\n",
       " 'Comment_5561298',\n",
       " 'Comment_5561636',\n",
       " 'Comment_5561693',\n",
       " 'Comment_5561732',\n",
       " 'Comment_5561814',\n",
       " 'Comment_5561854',\n",
       " 'Comment_5569270',\n",
       " 'Comment_5569290',\n",
       " 'Comment_5569334',\n",
       " 'Comment_5570291',\n",
       " 'Comment_5570297',\n",
       " 'Comment_5570300',\n",
       " 'Comment_5570302',\n",
       " 'Comment_5570306',\n",
       " 'Comment_5570313',\n",
       " 'Comment_5570317',\n",
       " 'Comment_5570322',\n",
       " 'Comment_5570640',\n",
       " 'Comment_5570643',\n",
       " 'Comment_5570652',\n",
       " 'Comment_5570669',\n",
       " 'Comment_5570672',\n",
       " 'Comment_5570688',\n",
       " 'Comment_5570710',\n",
       " 'Comment_5570711',\n",
       " 'Comment_5570787',\n",
       " 'Comment_5570792',\n",
       " 'Comment_5570838']"
      ]
     },
     "execution_count": 13,
     "metadata": {},
     "output_type": "execute_result"
    }
   ],
   "source": [
    "ids = driver.find_elements_by_xpath(\"//*[contains(@id,'Comment_')]\")\n",
    "comment_ids = []\n",
    "for i in ids:\n",
    "    comment_ids.append(i.get_attribute('id'))\n",
    "    \n",
    "comment_ids"
   ]
  },
  {
   "cell_type": "code",
   "execution_count": null,
   "metadata": {},
   "outputs": [],
   "source": []
  },
  {
   "cell_type": "code",
   "execution_count": null,
   "metadata": {},
   "outputs": [],
   "source": []
  }
 ],
 "metadata": {
  "kernelspec": {
   "display_name": "Python 3",
   "language": "python",
   "name": "python3"
  },
  "language_info": {
   "codemirror_mode": {
    "name": "ipython",
    "version": 3
   },
   "file_extension": ".py",
   "mimetype": "text/x-python",
   "name": "python",
   "nbconvert_exporter": "python",
   "pygments_lexer": "ipython3",
   "version": "3.6.8"
  }
 },
 "nbformat": 4,
 "nbformat_minor": 2
}

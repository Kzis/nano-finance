{
  "nbformat": 4,
  "nbformat_minor": 0,
  "metadata": {
    "colab": {
      "name": "hash.ipynb",
      "version": "0.3.2",
      "provenance": [],
      "include_colab_link": true
    },
    "kernelspec": {
      "name": "python3",
      "display_name": "Python 3"
    }
  },
  "cells": [
    {
      "cell_type": "markdown",
      "metadata": {
        "id": "view-in-github",
        "colab_type": "text"
      },
      "source": [
        "<a href=\"https://colab.research.google.com/github/Kzis/big-data/blob/master/hash.ipynb\" target=\"_parent\"><img src=\"https://colab.research.google.com/assets/colab-badge.svg\" alt=\"Open In Colab\"/></a>"
      ]
    },
    {
      "cell_type": "code",
      "metadata": {
        "id": "X87CKa-TpE_m",
        "colab_type": "code",
        "colab": {}
      },
      "source": [
        "# https://python3.wannaphong.com/2014/08/hash-python.html"
      ],
      "execution_count": 0,
      "outputs": []
    },
    {
      "cell_type": "code",
      "metadata": {
        "id": "sEjssl1vorM4",
        "colab_type": "code",
        "colab": {}
      },
      "source": [
        "import hashlib\n",
        "text = \"BADS@NIDA\".encode('utf-8')"
      ],
      "execution_count": 0,
      "outputs": []
    },
    {
      "cell_type": "code",
      "metadata": {
        "id": "m9DeJlqjuveO",
        "colab_type": "code",
        "colab": {
          "base_uri": "https://localhost:8080/",
          "height": 34
        },
        "outputId": "bf4d2ece-0116-40ec-b5dd-96db48ea621a"
      },
      "source": [
        "md5 = hashlib.md5(text) #Hash ข้อความด้วย MD5\n",
        "print(md5.hexdigest()) "
      ],
      "execution_count": 42,
      "outputs": [
        {
          "output_type": "stream",
          "text": [
            "15ff3c3b416b120765bec5357f79d4d1\n"
          ],
          "name": "stdout"
        }
      ]
    },
    {
      "cell_type": "code",
      "metadata": {
        "id": "kPMYAGfGuuo6",
        "colab_type": "code",
        "colab": {
          "base_uri": "https://localhost:8080/",
          "height": 34
        },
        "outputId": "1b247084-90c9-43ab-f4cb-75580da4c570"
      },
      "source": [
        "sha1 = hashlib.sha1(text) #Hash ข้อความด้วย SHA1\n",
        "print(sha1.hexdigest())"
      ],
      "execution_count": 43,
      "outputs": [
        {
          "output_type": "stream",
          "text": [
            "65316c9e3c68bfb9515b3541e1d593736a99ad64\n"
          ],
          "name": "stdout"
        }
      ]
    },
    {
      "cell_type": "code",
      "metadata": {
        "id": "O-PQC0mduv_c",
        "colab_type": "code",
        "colab": {
          "base_uri": "https://localhost:8080/",
          "height": 34
        },
        "outputId": "8b72da2c-9475-41e3-c994-8cd27a3f3b45"
      },
      "source": [
        "sha224 = hashlib.sha224(text) #Hash ข้อความด้วย SHA224\n",
        "print(sha224.hexdigest())"
      ],
      "execution_count": 44,
      "outputs": [
        {
          "output_type": "stream",
          "text": [
            "3e1ba7d26c6082c15ae32591df9f9db6ffbc3a1d999f27f6d4b9daa7\n"
          ],
          "name": "stdout"
        }
      ]
    },
    {
      "cell_type": "code",
      "metadata": {
        "id": "Pq2FXRyKuxtT",
        "colab_type": "code",
        "colab": {
          "base_uri": "https://localhost:8080/",
          "height": 34
        },
        "outputId": "83742f3a-c881-4ac4-8b20-881bab6b45a7"
      },
      "source": [
        "sha256 = hashlib.sha256(text) #Hash ข้อความด้วย SHA256\n",
        "print(sha256.hexdigest())"
      ],
      "execution_count": 45,
      "outputs": [
        {
          "output_type": "stream",
          "text": [
            "6b0a33ba3178b9398e37b0a3c3ff8002794b104c25e0ae573e0ee9c1bb940aa2\n"
          ],
          "name": "stdout"
        }
      ]
    },
    {
      "cell_type": "code",
      "metadata": {
        "id": "pyrosGVxuy8w",
        "colab_type": "code",
        "colab": {
          "base_uri": "https://localhost:8080/",
          "height": 34
        },
        "outputId": "df5d1b33-ae54-4d2f-826a-b5f3e1e7f2d3"
      },
      "source": [
        "sha384 = hashlib.sha384(text) #Hash ข้อความด้วย SHA384\n",
        "print(sha384.hexdigest())"
      ],
      "execution_count": 46,
      "outputs": [
        {
          "output_type": "stream",
          "text": [
            "11295d323be3058c482d6d575a758a65fa926fd75fd4aa2dde7c5153dc065e2fd15e95496b47f7e60cba80a94cb4fd4d\n"
          ],
          "name": "stdout"
        }
      ]
    }
  ]
}